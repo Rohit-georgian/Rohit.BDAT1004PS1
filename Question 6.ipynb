{
 "cells": [
  {
   "cell_type": "code",
   "execution_count": 17,
   "id": "a0c18947",
   "metadata": {},
   "outputs": [],
   "source": [
    "\n",
    "def pig(str):\n",
    "    mylist = [\"a\",\"i\",\"e\",\"o\",\"u\"]\n",
    "    for i in mylist :\n",
    "        if(str[0]== i):\n",
    "            nStr= str+\"way\"\n",
    "            return nStr\n",
    "    \n",
    "        \n",
    "    fc=str[0]\n",
    "    nstr=str[1:]\n",
    "    ntr=nstr+fc+\"ay\"\n",
    "    return ntr\n",
    "        "
   ]
  },
  {
   "cell_type": "code",
   "execution_count": 21,
   "id": "23aab7c2",
   "metadata": {},
   "outputs": [
    {
     "name": "stdout",
     "output_type": "stream",
     "text": [
      "enter your word here: enter\n"
     ]
    },
    {
     "data": {
      "text/plain": [
       "'enterway'"
      ]
     },
     "execution_count": 21,
     "metadata": {},
     "output_type": "execute_result"
    }
   ],
   "source": [
    "str = input(\"enter your word here: \")\n",
    "pig(str)"
   ]
  },
  {
   "cell_type": "code",
   "execution_count": null,
   "id": "f4d1aaac",
   "metadata": {},
   "outputs": [],
   "source": []
  },
  {
   "cell_type": "code",
   "execution_count": null,
   "id": "6851704f",
   "metadata": {},
   "outputs": [],
   "source": []
  }
 ],
 "metadata": {
  "kernelspec": {
   "display_name": "Python 3 (ipykernel)",
   "language": "python",
   "name": "python3"
  },
  "language_info": {
   "codemirror_mode": {
    "name": "ipython",
    "version": 3
   },
   "file_extension": ".py",
   "mimetype": "text/x-python",
   "name": "python",
   "nbconvert_exporter": "python",
   "pygments_lexer": "ipython3",
   "version": "3.10.4"
  }
 },
 "nbformat": 4,
 "nbformat_minor": 5
}
