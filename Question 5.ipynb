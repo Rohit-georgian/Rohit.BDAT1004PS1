{
 "cells": [
  {
   "cell_type": "code",
   "execution_count": 1,
   "id": "7d1ded5e",
   "metadata": {},
   "outputs": [
    {
     "ename": "SyntaxError",
     "evalue": "invalid syntax (1393841079.py, line 1)",
     "output_type": "error",
     "traceback": [
      "\u001b[1;36m  Input \u001b[1;32mIn [1]\u001b[1;36m\u001b[0m\n\u001b[1;33m    static Boolean inside(double x, double y, double x1, double y1, double x2, double y2)\u001b[0m\n\u001b[1;37m           ^\u001b[0m\n\u001b[1;31mSyntaxError\u001b[0m\u001b[1;31m:\u001b[0m invalid syntax\n"
     ]
    }
   ],
   "source": [
    "static Boolean inside(double x, double y, double x1, double y1, double x2, double y2)\n",
    "{\n",
    "    if (x >= x1 && x <= x2 && y >= y1 && y <= y2)\n",
    "    {\n",
    "        return true;\n",
    "    }\n",
    "    else\n",
    "    {\n",
    "        return false;\n",
    "    }\n",
    "}\n",
    "\n",
    "Boolean ans = inside(-1,-1,0,0,2,3);\n",
    "Console.WriteLine(ans);\n"
   ]
  },
  {
   "cell_type": "markdown",
   "id": "12debac7",
   "metadata": {},
   "source": [
    "# 5.b"
   ]
  },
  {
   "cell_type": "code",
   "execution_count": null,
   "id": "4cd0d8d0",
   "metadata": {},
   "outputs": [],
   "source": [
    "\n",
    "if(inside(1,1,0.3,0.5,1.1,0.7) && inside(1,1,0.5,0.2,1.1,2))\n",
    "{\n",
    "    Console.WriteLine(\"following points lies in both rectange\");\n",
    "}\n",
    "else\n",
    "{\n",
    "    Console.WriteLine(\"following points does not lies  in both rectange\");\n"
   ]
  }
 ],
 "metadata": {
  "kernelspec": {
   "display_name": "Python 3 (ipykernel)",
   "language": "python",
   "name": "python3"
  },
  "language_info": {
   "codemirror_mode": {
    "name": "ipython",
    "version": 3
   },
   "file_extension": ".py",
   "mimetype": "text/x-python",
   "name": "python",
   "nbconvert_exporter": "python",
   "pygments_lexer": "ipython3",
   "version": "3.10.4"
  }
 },
 "nbformat": 4,
 "nbformat_minor": 5
}
