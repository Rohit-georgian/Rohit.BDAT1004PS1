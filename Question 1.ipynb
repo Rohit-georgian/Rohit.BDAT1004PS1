{
 "cells": [
  {
   "cell_type": "code",
   "execution_count": null,
   "id": "75dbece1",
   "metadata": {},
   "outputs": [],
   "source": [
    "// 5   Integer type .\n",
    "// 5.0  float .\n",
    "// 5 > 1 Comparison Operators - greater than operator.\n",
    "//'5'// char  \n",
    "//5 * 2  Integer type . \n",
    "//'5' * 2   // char\n",
    "//'5' + '2' //String\n",
    "//5 / 2  float type .\n",
    "// 5 % 2  integer type . \n",
    "//{ 5, 2, 1}  Enumerated type \n",
    "//5 == 3   Comparison Operators - Equal to .\n",
    "//Pi(the number) float type . \n",
    "\n"
   ]
  }
 ],
 "metadata": {
  "kernelspec": {
   "display_name": "Python 3 (ipykernel)",
   "language": "python",
   "name": "python3"
  },
  "language_info": {
   "codemirror_mode": {
    "name": "ipython",
    "version": 3
   },
   "file_extension": ".py",
   "mimetype": "text/x-python",
   "name": "python",
   "nbconvert_exporter": "python",
   "pygments_lexer": "ipython3",
   "version": "3.10.4"
  }
 },
 "nbformat": 4,
 "nbformat_minor": 5
}
