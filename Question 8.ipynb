{
 "cells": [
  {
   "cell_type": "code",
   "execution_count": 5,
   "id": "d0d3f5f5",
   "metadata": {},
   "outputs": [
    {
     "data": {
      "text/plain": [
       "'1.2296544 '"
      ]
     },
     "execution_count": 5,
     "metadata": {},
     "output_type": "execute_result"
    }
   ],
   "source": [
    "file=open('currencies.txt','r')\n",
    "file=file.readlines()\n",
    "mydict={}  #creating dictonary to stroe file data.\n",
    "\n",
    "for values in file:\n",
    "    mydict.update({values[0:3]:values[4:14]})\n",
    "\n",
    "mydict.get('EUR')"
   ]
  },
  {
   "cell_type": "code",
   "execution_count": 6,
   "id": "02633749",
   "metadata": {},
   "outputs": [],
   "source": [
    "def curcov(country,amount):\n",
    "    if mydict.get(country):\n",
    "        cValue=mydict.get(country)\n",
    "        cValue=float(cValue) # converting curreny value to float from string\n",
    "        return cValue*amount\n",
    "    else:\n",
    "        return 0\n",
    "        \n",
    "    "
   ]
  },
  {
   "cell_type": "code",
   "execution_count": 7,
   "id": "d442b2cb",
   "metadata": {},
   "outputs": [
    {
     "name": "stdout",
     "output_type": "stream",
     "text": [
      "122.96544\n"
     ]
    }
   ],
   "source": [
    "value=curcov(\"EUR\",100)\n",
    "print(value)"
   ]
  },
  {
   "cell_type": "code",
   "execution_count": null,
   "id": "d426a96b",
   "metadata": {},
   "outputs": [],
   "source": []
  },
  {
   "cell_type": "code",
   "execution_count": null,
   "id": "32de7f2d",
   "metadata": {},
   "outputs": [],
   "source": []
  },
  {
   "cell_type": "code",
   "execution_count": null,
   "id": "49dbc782",
   "metadata": {},
   "outputs": [],
   "source": []
  }
 ],
 "metadata": {
  "kernelspec": {
   "display_name": "Python 3 (ipykernel)",
   "language": "python",
   "name": "python3"
  },
  "language_info": {
   "codemirror_mode": {
    "name": "ipython",
    "version": 3
   },
   "file_extension": ".py",
   "mimetype": "text/x-python",
   "name": "python",
   "nbconvert_exporter": "python",
   "pygments_lexer": "ipython3",
   "version": "3.10.4"
  }
 },
 "nbformat": 4,
 "nbformat_minor": 5
}
