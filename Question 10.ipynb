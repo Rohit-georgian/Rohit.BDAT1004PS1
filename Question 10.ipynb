{
 "cells": [
  {
   "cell_type": "code",
   "execution_count": 3,
   "id": "9321ce74",
   "metadata": {},
   "outputs": [
    {
     "name": "stdout",
     "output_type": "stream",
     "text": [
      "{'T': 1, 'h': 2, 'e': 5, ' ': 8, 'q': 1, 'u': 1, 'i': 1, 'c': 1, 'k': 1, 'r': 2, 'd': 3, 'f': 1, 'o': 4, 'x': 1, 'g': 1, 't': 2, 'b': 1, 'a': 1, 'n': 2, 'w': 1, 'm': 1, '.': 1}\n"
     ]
    }
   ],
   "source": [
    "str=\"The quick red fox got bored and went home.\"\n",
    "mydict = {}\n",
    "  \n",
    "for keys in str:\n",
    "    mydict[keys] = mydict.get(keys, 0) + 1\n",
    "  \n",
    "\n",
    "print(mydict)\n"
   ]
  },
  {
   "cell_type": "code",
   "execution_count": null,
   "id": "51a6723f",
   "metadata": {},
   "outputs": [],
   "source": []
  }
 ],
 "metadata": {
  "kernelspec": {
   "display_name": "Python 3 (ipykernel)",
   "language": "python",
   "name": "python3"
  },
  "language_info": {
   "codemirror_mode": {
    "name": "ipython",
    "version": 3
   },
   "file_extension": ".py",
   "mimetype": "text/x-python",
   "name": "python",
   "nbconvert_exporter": "python",
   "pygments_lexer": "ipython3",
   "version": "3.10.4"
  }
 },
 "nbformat": 4,
 "nbformat_minor": 5
}
