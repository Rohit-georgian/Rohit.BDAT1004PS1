{
 "cells": [
  {
   "cell_type": "markdown",
   "id": "e51fedbc",
   "metadata": {},
   "source": [
    "# 2.a"
   ]
  },
  {
   "cell_type": "code",
   "execution_count": null,
   "id": "9683f928",
   "metadata": {},
   "outputs": [],
   "source": [
    "String str = \"Supercalifragilisticexpialidocious\";\n",
    "\n",
    "int count = 0;\n",
    " foreach(char c in str)\n",
    "{\n",
    "    count++;\n",
    "}\n",
    "Console.WriteLine(\"Number of letters in given string : \"+count);\n",
    "\n",
    "\n"
   ]
  },
  {
   "cell_type": "markdown",
   "id": "fa43b6a2",
   "metadata": {},
   "source": [
    "# 2.b"
   ]
  },
  {
   "cell_type": "code",
   "execution_count": null,
   "id": "a87d9a8b",
   "metadata": {},
   "outputs": [],
   "source": [
    "\n",
    "String str = \"Supercalifragilisticexpialidocious\";\n",
    "string tofind = \"ice\";\n",
    "int result = str.IndexOf(tofind);\n",
    "if (result > 0)\n",
    "{\n",
    "    Console.WriteLine(\"Given strig contain substring\");\n",
    "}\n",
    "else\n",
    "{\n",
    "    Console.WriteLine(\"Substring not foud in given string\");\n",
    "}\n",
    "\n",
    "\n",
    "\n"
   ]
  },
  {
   "cell_type": "markdown",
   "id": "d4fc79be",
   "metadata": {},
   "source": [
    "# 2.c"
   ]
  },
  {
   "cell_type": "markdown",
   "id": "ed5967d0",
   "metadata": {},
   "source": [
    "String str1 = \"Supercalifragilisticexpialidocious\";\n",
    "String str2 = \"Honorificabilitudinitatibus\";\n",
    "String str3 = \"Bababadalgharaghtakamminarronnkonn\";\n",
    "\n",
    "Console.WriteLine(\"Length of str1 : \"+str1.Length);\n",
    "Console.WriteLine(\"Length of str2 : \" + str2.Length);\n",
    "Console.WriteLine(\"Length of str3 : \" + str3.Length);\n",
    "Console.WriteLine(\"Str1 is longest string\");\n",
    "\n"
   ]
  },
  {
   "cell_type": "markdown",
   "id": "5939abe5",
   "metadata": {},
   "source": [
    "## 2.d"
   ]
  },
  {
   "cell_type": "code",
   "execution_count": null,
   "id": "5dcdafde",
   "metadata": {},
   "outputs": [],
   "source": [
    "List<String> givenstrings = new List<string>();\n",
    "givenstrings.Add(\"Bartok\");\n",
    "givenstrings.Add(\"Bellini\");\n",
    "givenstrings.Add(\"Buxtehude\");\n",
    "givenstrings.Add(\"Bernstein\");\n",
    "givenstrings.Add(\"Berlioz\");\n",
    "givenstrings.Add(\"Borodin\");\n",
    "givenstrings.Add(\"Brian\");\n",
    "\n",
    "\n",
    "givenstrings.Sort();\n",
    "Console.WriteLine(givenstrings[0] +\" : comes first in the dictionary\");\n",
    "Console.WriteLine(givenstrings[6] + \" : comes :Last in the dictionary\");\n",
    "\n"
   ]
  },
  {
   "cell_type": "code",
   "execution_count": null,
   "id": "445fd4b1",
   "metadata": {},
   "outputs": [],
   "source": []
  }
 ],
 "metadata": {
  "kernelspec": {
   "display_name": "Python 3 (ipykernel)",
   "language": "python",
   "name": "python3"
  },
  "language_info": {
   "codemirror_mode": {
    "name": "ipython",
    "version": 3
   },
   "file_extension": ".py",
   "mimetype": "text/x-python",
   "name": "python",
   "nbconvert_exporter": "python",
   "pygments_lexer": "ipython3",
   "version": "3.10.4"
  }
 },
 "nbformat": 4,
 "nbformat_minor": 5
}
