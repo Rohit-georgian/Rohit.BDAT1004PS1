{
 "cells": [
  {
   "cell_type": "code",
   "execution_count": 55,
   "id": "56b9acce",
   "metadata": {
    "scrolled": true
   },
   "outputs": [
    {
     "name": "stdout",
     "output_type": "stream",
     "text": [
      "There are 13 patients of blood type of AB.\n",
      "There are 1 patients of blood type of B.\n",
      "There are 15 patients of blood type of O.\n",
      "There are 15 patients of blood type of A.\n"
     ]
    }
   ],
   "source": [
    "mydict={}\n",
    "file=open('blood.txt','r')\n",
    "file=file.readlines()\n",
    "str=file[0]\n",
    "\n",
    "str = str.split(\" \")\n",
    "\n",
    "\n",
    "for value in str:\n",
    "\n",
    "    if value in mydict:\n",
    "        kValue = mydict.get(value)\n",
    "        kValue=kValue+1\n",
    "        mydict.update({value:kValue})\n",
    "    \n",
    "    else:\n",
    "        \n",
    "        mydict.update({value:1})\n",
    "        \n",
    "\n",
    "\n",
    "for myValues in mydict:\n",
    "    \n",
    "    print(f\"There are {mydict.get(myValues)} patients of blood type of {myValues}.\")"
   ]
  },
  {
   "cell_type": "code",
   "execution_count": 25,
   "id": "e6cc1195",
   "metadata": {},
   "outputs": [],
   "source": [
    "\n"
   ]
  },
  {
   "cell_type": "code",
   "execution_count": null,
   "id": "ff6c2995",
   "metadata": {},
   "outputs": [],
   "source": []
  },
  {
   "cell_type": "code",
   "execution_count": null,
   "id": "348a3613",
   "metadata": {},
   "outputs": [],
   "source": []
  }
 ],
 "metadata": {
  "kernelspec": {
   "display_name": "Python 3 (ipykernel)",
   "language": "python",
   "name": "python3"
  },
  "language_info": {
   "codemirror_mode": {
    "name": "ipython",
    "version": 3
   },
   "file_extension": ".py",
   "mimetype": "text/x-python",
   "name": "python",
   "nbconvert_exporter": "python",
   "pygments_lexer": "ipython3",
   "version": "3.10.4"
  }
 },
 "nbformat": 4,
 "nbformat_minor": 5
}
