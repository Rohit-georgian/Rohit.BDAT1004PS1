{
 "cells": [
  {
   "cell_type": "code",
   "execution_count": null,
   "id": "1558be7c",
   "metadata": {},
   "outputs": [],
   "source": [
    "\n",
    "List<int> odd = new List<int>();\n",
    "List<int> even = new List<int>();\n",
    "Console.WriteLine(\"Input the number of elements to be stored in the array : \");\n",
    "int n = int.Parse(Console.ReadLine());\n",
    "\n",
    "int[] arr= new int[n];\n",
    "\n",
    "for(int i = 0; i < n; i++)\n",
    "{\n",
    "    arr[i] = int.Parse(Console.ReadLine());\n",
    "}\n",
    "\n",
    "foreach(int i in arr)\n",
    "{\n",
    "    if (i % 2 == 0)\n",
    "    {\n",
    "        even.Add(i);\n",
    "    }\n",
    "    else\n",
    "    {\n",
    "        odd.Add(i);\n",
    "    }\n",
    "}\n",
    "\n",
    "Console.WriteLine(\"The Even elements are : \");\n",
    "for(int i = 0; i < even.Count; i++)\n",
    "{\n",
    "    Console.Write(even[i]+\" \");\n",
    "}\n",
    "Console.WriteLine();\n",
    "Console.WriteLine(\"The odd elements are : \");\n",
    "for (int i = 0; i < odd.Count; i++)\n",
    "{\n",
    "    Console.Write(odd[i]+\" \");\n",
    "}\n"
   ]
  }
 ],
 "metadata": {
  "kernelspec": {
   "display_name": "Python 3 (ipykernel)",
   "language": "python",
   "name": "python3"
  },
  "language_info": {
   "codemirror_mode": {
    "name": "ipython",
    "version": 3
   },
   "file_extension": ".py",
   "mimetype": "text/x-python",
   "name": "python",
   "nbconvert_exporter": "python",
   "pygments_lexer": "ipython3",
   "version": "3.10.4"
  }
 },
 "nbformat": 4,
 "nbformat_minor": 5
}
